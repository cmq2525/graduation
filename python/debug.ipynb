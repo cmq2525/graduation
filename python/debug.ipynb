{
 "cells": [
  {
   "cell_type": "code",
   "execution_count": 1,
   "metadata": {
    "collapsed": true
   },
   "outputs": [],
   "source": [
    "from utils import *\n",
    "from encrypt import *"
   ]
  },
  {
   "cell_type": "code",
   "execution_count": 2,
   "metadata": {
    "collapsed": true
   },
   "outputs": [],
   "source": [
    "from flask import Flask,request\n",
    "from flask import make_response\n",
    "import os\n",
    "import subprocess\n",
    "import threading"
   ]
  },
  {
   "cell_type": "code",
   "execution_count": 3,
   "metadata": {},
   "outputs": [],
   "source": [
    "app = Flask(__name__)\n",
    "#存储出售数据集的地址，索引是智能合约中，数据集的hash，value是用AES加密后的ipfs地址\n",
    "AES_KEY = \"YIGEMIYAO\"\n",
    "subprocess.getoutput(['touch sell_dict.pkl'])\n",
    "subprocess.getoutput(['touch prikey_dict.pkl'])\n",
    "\n",
    "sell_dict = load_model('sell_dict.pkl')\n",
    "prikey_dict = load_model('prikey_dict.pkl')\n",
    "\n",
    "account_addr = \"\"\n",
    "pwd = \"\"\n",
    "@app.route(\"/api/register\")\n",
    "def register():\n",
    "    account_addr = request.args.get('account')\n",
    "    pwd = request.args.get('password')\n",
    "    return 'success'\n",
    "@app.route(\"/account\")\n",
    "def return_account():\n",
    "    return account_addr\n",
    "@app.route(\"/pwd\")\n",
    "def return_pwd():\n",
    "    return pwd\n",
    "\n",
    "@app.route(\"/api/train_and_upload\",methods=['GET',])\n",
    "def train_and_upload():\n",
    "    #获取到传入url中参数id对应的值\n",
    "    data_name = request.args.get('data')\n",
    "    #clf = train_model(data_name)\n",
    "    model_name = data_name.split('.')[0]+'.pkl'\n",
    "    #save_model(clf,model_name)\n",
    "    model_addr = upload_file(model_name)\n",
    "    data_addr = upload_file(data_name)\n",
    "\n",
    "    #由于还不知道dataset_hash是什么，暂时先以model_addr作为key，将data_addr的密文存到sell_dict中\n",
    "    sell_dict[model_addr] = aes_encrypt(data_addr,AES_KEY)\n",
    "    return model_addr\n",
    "#使用web3js计算出数据集的hash，更新数据集字典（之前是以model_addr为key，现在将key换为data_hash）\n",
    "@app.route(\"/api/update_sell_dict\",methods=['GET',])\n",
    "def update_sell_dict():\n",
    "    old_key = request.args.get('model_addr')\n",
    "    new_key = request.args.get('dataset_hash')\n",
    "    sell_dict[new_key] = sell_dict[old_key]\n",
    "    sell_dict.pop(old_key)\n",
    "    return 'success'\n",
    "@app.route(\"/api/send_dataset\",methods=['GET',])\n",
    "def send_dataset():\n",
    "    pub_key,pri_key = rsa.newkeys(256)\n",
    "    pub_key.n = int(request.args.get('pub_key')[1:])\n",
    "    dataset_hash = request.args.get('dataset_hash')\n",
    "    #这里ipfs地址是长度为46的字符串，而python的rsa库只能加密21字节的信息\n",
    "    #因此需要分别加密\n",
    "    data_addr = aes_decrypt(sell_dict[dataset_hash],AES_KEY)\n",
    "    msg1 = data_addr[:6]\n",
    "    msg2 = data_addr[6:26]\n",
    "    msg3 = data_addr[26:]\n",
    "    cipher1 = rsa_encrypt(msg1,pub_key)\n",
    "    cipher2 = rsa_encrypt(msg2,pub_key)\n",
    "    cipher3 = rsa_encrypt(msg3,pub_key)\n",
    "    return '+'.join([cipher1,cipher2,cipher3])\n",
    "#准备购买数据集，产生用于加密的密钥对，将私钥储存\n",
    "@app.route(\"/api/prepare_to_buy\")\n",
    "def prepare_to_buy():\n",
    "    tx_hash = request.args.get(\"tx_hash\")\n",
    "    if tx_hash in prikey_dict:\n",
    "        return 'already request!'\n",
    "    pub_key,pri_key = rsa.newkeys(256)\n",
    "    prikey_dict[tx_hash] = pri_key\n",
    "    return '!' + str(pub_key.n)\n",
    "#应当一笔交易对应一个密钥\n",
    "@app.route(\"/api/update_prikey_dict\")\n",
    "def update_prikey_dict():\n",
    "    old_key = request.args.get('dataset_hash')\n",
    "    new_key = request.args.get('tx_hash')\n",
    "    sell_dict[new_key] = sell_dict[old_key]\n",
    "    sell_dict.pop(old_key)\n",
    "    return 'success'\n",
    "\n",
    "@app.route('/api/decrypt_addr')\n",
    "def decrypt_addr():\n",
    "    tx_hash = request.args.get('tx_hash')\n",
    "    cipher = request.args.get('cipher')\n",
    "    pri_key = prikey_dict[tx_hash]\n",
    "    cipher_list = cipher.split('+')\n",
    "    data_addr = ''\n",
    "    print(cipher_list)\n",
    "    for cp in cipher_list:\n",
    "        print(cp)\n",
    "        data_addr += rsa_decrypt(cp,pri_key)\n",
    "    return data_addr\n",
    "\n",
    "@app.route('/api/train_my_model')\n",
    "def train_my_model():\n",
    "    #获取到传入url中参数id对应的值\n",
    "    data_name = request.args.get('data')\n",
    "    clf = train_model(train_file)\n",
    "    model_name = train_file.split('.')[0]+'.pkl'\n",
    "    save_model(clf,model_name)\n",
    "    model_addr = upload_file(model_name)\n",
    "    return model_addr\n",
    "@app.route('/api/test_dataset')\n",
    "def test_dataset():\n",
    "    data_name = request.args.get('data')\n",
    "    model_addr = request.args.get('model_addr')\n",
    "    download_file(model_addr)\n",
    "    clf = load_model(model_addr)\n",
    "    result = test_model(data_name,clf)\n",
    "    output = os.popen('rm ' + model_addr)\n",
    "    return result\n",
    "\n",
    "@app.route('/')\n",
    "def hello():\n",
    "    return 'hello world!'"
   ]
  },
  {
   "cell_type": "code",
   "execution_count": 4,
   "metadata": {
    "collapsed": true
   },
   "outputs": [],
   "source": [
    "def run_app():\n",
    "    app.run('0.0.0.0',7777)"
   ]
  },
  {
   "cell_type": "code",
   "execution_count": 5,
   "metadata": {},
   "outputs": [
    {
     "name": "stderr",
     "output_type": "stream",
     "text": [
      " * Running on http://0.0.0.0:7777/ (Press CTRL+C to quit)\n"
     ]
    }
   ],
   "source": [
    "t1 = threading.Thread(target=run_app)\n",
    "t1.start()"
   ]
  },
  {
   "cell_type": "code",
   "execution_count": 11,
   "metadata": {},
   "outputs": [
    {
     "data": {
      "text/plain": [
       "{'0xd43dda362195a4235f82d318b5cf0979bbcd34f2324146a90be8819cd37c5e2b': '2a2dcd9a895a046a3290bbc2826b5f0199ecd1e3692251206a202d20b2bc9efcea7da34a016a09642db0c946ac919376'}"
      ]
     },
     "execution_count": 11,
     "metadata": {},
     "output_type": "execute_result"
    }
   ],
   "source": [
    "sell_dict"
   ]
  },
  {
   "cell_type": "code",
   "execution_count": 12,
   "metadata": {},
   "outputs": [
    {
     "data": {
      "text/plain": [
       "{'0xd43dda362195a4235f82d318b5cf0979bbcd34f2324146a90be8819cd37c5e2b': PrivateKey(112303242847653819202827252429814041942164067655381248199805039536786058391361, 65537, 94115247980861051193629265685073723558454111880221880152971076657972159552941, 86284406763215830311905694150735646552927, 1301547371772974379227203621895176543)}"
      ]
     },
     "execution_count": 12,
     "metadata": {},
     "output_type": "execute_result"
    },
    {
     "name": "stderr",
     "output_type": "stream",
     "text": [
      "127.0.0.1 - - [03/Mar/2020 20:04:50] \"\u001b[37mGET /api/send_dataset?pub_key=!112303242847653819202827252429814041942164067655381248199805039536786058391361&dataset_hash=0xd43dda362195a4235f82d318b5cf0979bbcd34f2324146a90be8819cd37c5e2b HTTP/1.1\u001b[0m\" 200 -\n",
      "127.0.0.1 - - [03/Mar/2020 20:05:01] \"\u001b[33mGET /api/test?dataset_hash=0x7671ede9cdaa6666338e5cdd9045516d8fcef0968fe100bd5c45ea3224075137&cipher=391e0366cb6f5739facef3723ac146ac388647fd3aadaa99f3533cd12d374ce4%2B03842344a8944ace6bf207818c267f8145dc35981ed24c6a09e4a73e7ece6cd8%2B95573544c47610dea561570305ddc15d7e38e4946238c716d9812cedad7b355f HTTP/1.1\u001b[0m\" 404 -\n",
      "127.0.0.1 - - [03/Mar/2020 20:05:55] \"\u001b[37mGET /api/register?account=0x86c923e0e2fad5862be4a552be46693ff84aa7cd&password=cmq19950520 HTTP/1.1\u001b[0m\" 200 -\n",
      "127.0.0.1 - - [03/Mar/2020 20:05:56] \"\u001b[37mGET /api/register?account=0x86c923e0e2fad5862be4a552be46693ff84aa7cd&password=cmq19950520 HTTP/1.1\u001b[0m\" 200 -\n",
      "127.0.0.1 - - [03/Mar/2020 20:05:57] \"\u001b[37mGET /api/register?account=0x86c923e0e2fad5862be4a552be46693ff84aa7cd&password=cmq19950520 HTTP/1.1\u001b[0m\" 200 -\n",
      "127.0.0.1 - - [03/Mar/2020 20:17:35] \"\u001b[37mGET /api/register?account=0x86c923e0e2fad5862be4a552be46693ff84aa7cd&password=cmq19950520 HTTP/1.1\u001b[0m\" 200 -\n",
      "127.0.0.1 - - [03/Mar/2020 20:17:36] \"\u001b[37mGET /api/register?account=0x86c923e0e2fad5862be4a552be46693ff84aa7cd&password=cmq19950520 HTTP/1.1\u001b[0m\" 200 -\n",
      "127.0.0.1 - - [03/Mar/2020 20:18:24] \"\u001b[37mGET /api/register?account=0x86c923e0e2fad5862be4a552be46693ff84aa7cd&password=cmq19950520 HTTP/1.1\u001b[0m\" 200 -\n",
      "127.0.0.1 - - [03/Mar/2020 20:18:24] \"\u001b[37mGET /api/register?account=0x86c923e0e2fad5862be4a552be46693ff84aa7cd&password=cmq19950520 HTTP/1.1\u001b[0m\" 200 -\n",
      "127.0.0.1 - - [03/Mar/2020 20:18:26] \"\u001b[37mGET /api/register?account=0x86c923e0e2fad5862be4a552be46693ff84aa7cd&password=cmq19950520 HTTP/1.1\u001b[0m\" 200 -\n",
      "127.0.0.1 - - [03/Mar/2020 20:18:39] \"\u001b[37mGET /api/register?account=0x86c923e0e2fad5862be4a552be46693ff84aa7cd&password=cmq19950520 HTTP/1.1\u001b[0m\" 200 -\n",
      "127.0.0.1 - - [03/Mar/2020 20:19:02] \"\u001b[37mGET /api/train_and_upload?data=iris_headers.csv HTTP/1.1\u001b[0m\" 200 -\n",
      "127.0.0.1 - - [03/Mar/2020 20:19:10] \"\u001b[37mGET /api/update_hash?model_addr=QmaqcrZLg7TbmyBum6wKxDvfj1DGJyvbmjQKs6ybLQCbyh&dataset_hash=0x8551a82f82ea875a82dffd3d0dbe95e17716c84853d5fe3e3f2670a0340a209d HTTP/1.1\u001b[0m\" 200 -\n",
      "127.0.0.1 - - [03/Mar/2020 20:19:34] \"\u001b[37mGET /api/register?account=0x86c923e0e2fad5862be4a552be46693ff84aa7cd&password=cmq19950520 HTTP/1.1\u001b[0m\" 200 -\n",
      "127.0.0.1 - - [03/Mar/2020 20:19:36] \"\u001b[37mGET /api/register?account=0x86c923e0e2fad5862be4a552be46693ff84aa7cd&password=cmq19950520 HTTP/1.1\u001b[0m\" 200 -\n",
      "[2020-03-03 20:26:25,743] ERROR in app: Exception on /api/prepare_to_buy [GET]\n",
      "Traceback (most recent call last):\n",
      "  File \"/Users/cmq2525/anaconda3/lib/python3.6/site-packages/flask/app.py\", line 1982, in wsgi_app\n",
      "    response = self.full_dispatch_request()\n",
      "  File \"/Users/cmq2525/anaconda3/lib/python3.6/site-packages/flask/app.py\", line 1614, in full_dispatch_request\n",
      "    rv = self.handle_user_exception(e)\n",
      "  File \"/Users/cmq2525/anaconda3/lib/python3.6/site-packages/flask/app.py\", line 1517, in handle_user_exception\n",
      "    reraise(exc_type, exc_value, tb)\n",
      "  File \"/Users/cmq2525/anaconda3/lib/python3.6/site-packages/flask/_compat.py\", line 33, in reraise\n",
      "    raise value\n",
      "  File \"/Users/cmq2525/anaconda3/lib/python3.6/site-packages/flask/app.py\", line 1612, in full_dispatch_request\n",
      "    rv = self.dispatch_request()\n",
      "  File \"/Users/cmq2525/anaconda3/lib/python3.6/site-packages/flask/app.py\", line 1598, in dispatch_request\n",
      "    return self.view_functions[rule.endpoint](**req.view_args)\n",
      "  File \"<ipython-input-3-c579ebc2c4fe>\", line 64, in prepare_to_buy\n",
      "    if prikey_dict[target_dataset]:\n",
      "KeyError: '0x8551a82f82ea875a82dffd3d0dbe95e17716c84853d5fe3e3f2670a0340a209d'\n",
      "127.0.0.1 - - [03/Mar/2020 20:26:25] \"\u001b[1m\u001b[35mGET /api/prepare_to_buy?dataset_hash=0x8551a82f82ea875a82dffd3d0dbe95e17716c84853d5fe3e3f2670a0340a209d HTTP/1.1\u001b[0m\" 500 -\n"
     ]
    }
   ],
   "source": [
    "prikey_dict"
   ]
  },
  {
   "cell_type": "code",
   "execution_count": 13,
   "metadata": {},
   "outputs": [
    {
     "name": "stderr",
     "output_type": "stream",
     "text": [
      "127.0.0.1 - - [03/Mar/2020 20:36:40] \"\u001b[37mGET /api/prepare_to_buy3?tx_hash=0xa089deab18311fb648d2f6cc6c3c630a2d7b9114cd465a76007f5b7a0d08ebae HTTP/1.1\u001b[0m\" 200 -\n"
     ]
    }
   ],
   "source": [
    "@app.route(\"/api/prepare_to_buy3\")\n",
    "def prepare_to_buy3():\n",
    "    tx_hash = request.args.get(\"tx_hash\")\n",
    "    if tx_hash in prikey_dict:\n",
    "        return 'already request!'\n",
    "    pub_key,pri_key = rsa.newkeys(256)\n",
    "    prikey_dict[tx_hash] = pri_key\n",
    "    return '!' + str(pub_key.n)"
   ]
  },
  {
   "cell_type": "code",
   "execution_count": 14,
   "metadata": {},
   "outputs": [
    {
     "data": {
      "text/plain": [
       "{'0xa089deab18311fb648d2f6cc6c3c630a2d7b9114cd465a76007f5b7a0d08ebae': PrivateKey(88799887105108135218304505068361248532734645768470279283528762347921984664411, 65537, 21264711967706289181928847865219058446597292941550584195021333360767318472561, 67418763349015098392153744611362676740269, 1317139067731140571326869692495719719),\n",
       " '0xd43dda362195a4235f82d318b5cf0979bbcd34f2324146a90be8819cd37c5e2b': PrivateKey(112303242847653819202827252429814041942164067655381248199805039536786058391361, 65537, 94115247980861051193629265685073723558454111880221880152971076657972159552941, 86284406763215830311905694150735646552927, 1301547371772974379227203621895176543)}"
      ]
     },
     "execution_count": 14,
     "metadata": {},
     "output_type": "execute_result"
    },
    {
     "name": "stderr",
     "output_type": "stream",
     "text": [
      "127.0.0.1 - - [03/Mar/2020 20:55:10] \"\u001b[37mGET /api/register?account=0x86c923e0e2fad5862be4a552be46693ff84aa7cd&password=cmq19950520 HTTP/1.1\u001b[0m\" 200 -\n",
      "127.0.0.1 - - [03/Mar/2020 20:55:34] \"\u001b[37mGET /api/register?account=0x86c923e0e2fad5862be4a552be46693ff84aa7cd&password=cmq19950520 HTTP/1.1\u001b[0m\" 200 -\n",
      "127.0.0.1 - - [03/Mar/2020 20:55:50] \"\u001b[37mGET /api/register?account=0x86c923e0e2fad5862be4a552be46693ff84aa7cd&password=cmq19950520 HTTP/1.1\u001b[0m\" 200 -\n",
      "127.0.0.1 - - [03/Mar/2020 20:55:53] \"\u001b[37mGET /api/register?account=0x86c923e0e2fad5862be4a552be46693ff84aa7cd&password=cmq19950520 HTTP/1.1\u001b[0m\" 200 -\n",
      "127.0.0.1 - - [03/Mar/2020 20:58:27] \"\u001b[37mGET /api/register?account=0x86c923e0e2fad5862be4a552be46693ff84aa7cd&password=cmq19950520 HTTP/1.1\u001b[0m\" 200 -\n",
      "127.0.0.1 - - [03/Mar/2020 20:58:35] \"\u001b[37mGET /api/register?account=0x86c923e0e2fad5862be4a552be46693ff84aa7cd&password=cmq19950520 HTTP/1.1\u001b[0m\" 200 -\n",
      "127.0.0.1 - - [03/Mar/2020 20:58:47] \"\u001b[37mGET /api/register?account=0x86c923e0e2fad5862be4a552be46693ff84aa7cd&password=cmq19950520 HTTP/1.1\u001b[0m\" 200 -\n"
     ]
    }
   ],
   "source": [
    "prikey_dict"
   ]
  },
  {
   "cell_type": "code",
   "execution_count": null,
   "metadata": {
    "collapsed": true
   },
   "outputs": [],
   "source": []
  },
  {
   "cell_type": "code",
   "execution_count": 11,
   "metadata": {
    "collapsed": true
   },
   "outputs": [],
   "source": [
    "download_file('QmZiiuXwHfszjy1Spj8UuzGwdQ14ozicEj526ud45agMGA')"
   ]
  },
  {
   "cell_type": "code",
   "execution_count": 12,
   "metadata": {
    "collapsed": true
   },
   "outputs": [],
   "source": [
    "import pandas as pd\n",
    "df = pd.read_csv('QmZiiuXwHfszjy1Spj8UuzGwdQ14ozicEj526ud45agMGA')"
   ]
  },
  {
   "cell_type": "code",
   "execution_count": 1,
   "metadata": {
    "collapsed": true
   },
   "outputs": [],
   "source": [
    "from flask import Flask, render_template\n",
    "\n",
    "app = Flask(__name__,\n",
    "            static_folder = \"./dist/static\",\n",
    "            template_folder = \"./dist\")\n",
    "\n",
    "@app.route('/')\n",
    "def index():\n",
    "    return render_template(\"index.html\")"
   ]
  },
  {
   "cell_type": "code",
   "execution_count": null,
   "metadata": {},
   "outputs": [
    {
     "name": "stderr",
     "output_type": "stream",
     "text": [
      " * Running on http://127.0.0.1:7777/ (Press CTRL+C to quit)\n",
      "127.0.0.1 - - [26/Feb/2020 20:59:19] \"\u001b[37mGET / HTTP/1.1\u001b[0m\" 200 -\n",
      "127.0.0.1 - - [26/Feb/2020 20:59:19] \"\u001b[37mGET /static/css/app.d40fc157.css HTTP/1.1\u001b[0m\" 200 -\n",
      "127.0.0.1 - - [26/Feb/2020 20:59:19] \"\u001b[37mGET /static/css/chunk-vendors.56b28f4e.css HTTP/1.1\u001b[0m\" 200 -\n",
      "127.0.0.1 - - [26/Feb/2020 20:59:19] \"\u001b[37mGET /static/js/app.4bb6ab1a.js HTTP/1.1\u001b[0m\" 200 -\n",
      "127.0.0.1 - - [26/Feb/2020 20:59:19] \"\u001b[37mGET /static/js/chunk-vendors.99e8beaa.js HTTP/1.1\u001b[0m\" 200 -\n",
      "127.0.0.1 - - [26/Feb/2020 20:59:20] \"\u001b[37mGET /static/img/logo.82b9c7a5.png HTTP/1.1\u001b[0m\" 200 -\n"
     ]
    }
   ],
   "source": [
    "app.run('127.0.0.1',7777)"
   ]
  },
  {
   "cell_type": "code",
   "execution_count": null,
   "metadata": {
    "collapsed": true
   },
   "outputs": [],
   "source": []
  },
  {
   "cell_type": "code",
   "execution_count": 8,
   "metadata": {
    "collapsed": true
   },
   "outputs": [],
   "source": [
    "@app.route('/api/decrypt_addr')\n",
    "def decrypt_addr_():\n",
    "    dataset_hash = request.args.get('dataset_hash')\n",
    "    cipher = request.args.get('cipher')\n",
    "    pri_key = prikey_dict[dataset_hash]\n",
    "    cipher_list = cipher.split(' ')\n",
    "    data_addr = ''\n",
    "    print(cipher)\n",
    "    print(cipher_list)\n",
    "    for cp in cipher_list:\n",
    "        print(cp)\n",
    "        data_addr += rsa_decrypt(cp,pri_key)\n",
    "    return data_addr"
   ]
  },
  {
   "cell_type": "code",
   "execution_count": 10,
   "metadata": {
    "collapsed": true
   },
   "outputs": [],
   "source": [
    "cipher_list = '4ed1fe28e6d54bfb8a80afd50e1a41880ed6bda2dd08a0b4ac713f7b8f35933a+3a68a7a53b8040e5f345280f8dec6627f443d67c9a07698cf16ad1d94cdd7c64+393f4566131a51df0179be4cacc01a60850a0f070624645837e37ad4cb0247c6'.split('+')"
   ]
  },
  {
   "cell_type": "code",
   "execution_count": 11,
   "metadata": {},
   "outputs": [
    {
     "data": {
      "text/plain": [
       "['4ed1fe28e6d54bfb8a80afd50e1a41880ed6bda2dd08a0b4ac713f7b8f35933a',\n",
       " '3a68a7a53b8040e5f345280f8dec6627f443d67c9a07698cf16ad1d94cdd7c64',\n",
       " '393f4566131a51df0179be4cacc01a60850a0f070624645837e37ad4cb0247c6']"
      ]
     },
     "execution_count": 11,
     "metadata": {},
     "output_type": "execute_result"
    }
   ],
   "source": [
    "cipher_list"
   ]
  },
  {
   "cell_type": "code",
   "execution_count": 12,
   "metadata": {},
   "outputs": [
    {
     "data": {
      "text/plain": [
       "'QmZiiu'"
      ]
     },
     "execution_count": 12,
     "metadata": {},
     "output_type": "execute_result"
    }
   ],
   "source": [
    "rsa_decrypt(cipher_list[0],prikey_dict['chen'])"
   ]
  },
  {
   "cell_type": "code",
   "execution_count": 13,
   "metadata": {},
   "outputs": [
    {
     "data": {
      "text/plain": [
       "'XwHfszjy1Spj8UuzGwdQ'"
      ]
     },
     "execution_count": 13,
     "metadata": {},
     "output_type": "execute_result"
    }
   ],
   "source": [
    "rsa_decrypt(cipher_list[1],prikey_dict['chen'])"
   ]
  },
  {
   "cell_type": "code",
   "execution_count": 14,
   "metadata": {},
   "outputs": [
    {
     "data": {
      "text/plain": [
       "'14ozicEj526ud45agMGA'"
      ]
     },
     "execution_count": 14,
     "metadata": {},
     "output_type": "execute_result"
    }
   ],
   "source": [
    "rsa_decrypt(cipher_list[2],prikey_dict['chen'])"
   ]
  },
  {
   "cell_type": "code",
   "execution_count": 157,
   "metadata": {
    "collapsed": true
   },
   "outputs": [],
   "source": [
    "str_test = 'abcdefghijklmnopqrst12'"
   ]
  },
  {
   "cell_type": "code",
   "execution_count": 158,
   "metadata": {},
   "outputs": [
    {
     "ename": "OverflowError",
     "evalue": "22 bytes needed for message, but there is only space for 21",
     "output_type": "error",
     "traceback": [
      "\u001b[0;31m---------------------------------------------------------------------------\u001b[0m",
      "\u001b[0;31mOverflowError\u001b[0m                             Traceback (most recent call last)",
      "\u001b[0;32m<ipython-input-158-abdb6645942f>\u001b[0m in \u001b[0;36m<module>\u001b[0;34m()\u001b[0m\n\u001b[1;32m      1\u001b[0m \u001b[0mpub_key\u001b[0m\u001b[0;34m,\u001b[0m\u001b[0mpri_key\u001b[0m \u001b[0;34m=\u001b[0m \u001b[0mrsa\u001b[0m\u001b[0;34m.\u001b[0m\u001b[0mnewkeys\u001b[0m\u001b[0;34m(\u001b[0m\u001b[0;36m256\u001b[0m\u001b[0;34m)\u001b[0m\u001b[0;34m\u001b[0m\u001b[0m\n\u001b[0;32m----> 2\u001b[0;31m \u001b[0mrsa_encrypt\u001b[0m\u001b[0;34m(\u001b[0m\u001b[0mstr_test\u001b[0m\u001b[0;34m,\u001b[0m\u001b[0mpub_key\u001b[0m\u001b[0;34m)\u001b[0m\u001b[0;34m\u001b[0m\u001b[0m\n\u001b[0m",
      "\u001b[0;32m~/Desktop/python_test/encrypt.py\u001b[0m in \u001b[0;36mrsa_encrypt\u001b[0;34m(text, pub_key)\u001b[0m\n\u001b[1;32m      4\u001b[0m \u001b[0;32mdef\u001b[0m \u001b[0mrsa_encrypt\u001b[0m\u001b[0;34m(\u001b[0m\u001b[0mtext\u001b[0m\u001b[0;34m,\u001b[0m\u001b[0mpub_key\u001b[0m\u001b[0;34m)\u001b[0m\u001b[0;34m:\u001b[0m\u001b[0;34m\u001b[0m\u001b[0m\n\u001b[1;32m      5\u001b[0m     \u001b[0;31m#转为byte编码\u001b[0m\u001b[0;34m\u001b[0m\u001b[0;34m\u001b[0m\u001b[0m\n\u001b[0;32m----> 6\u001b[0;31m     \u001b[0mciphertext\u001b[0m \u001b[0;34m=\u001b[0m \u001b[0mrsa\u001b[0m\u001b[0;34m.\u001b[0m\u001b[0mencrypt\u001b[0m\u001b[0;34m(\u001b[0m\u001b[0mtext\u001b[0m\u001b[0;34m.\u001b[0m\u001b[0mencode\u001b[0m\u001b[0;34m(\u001b[0m\u001b[0;34m)\u001b[0m\u001b[0;34m,\u001b[0m \u001b[0mpub_key\u001b[0m\u001b[0;34m)\u001b[0m\u001b[0;34m\u001b[0m\u001b[0m\n\u001b[0m\u001b[1;32m      7\u001b[0m     \u001b[0;32mreturn\u001b[0m \u001b[0mb2a_hex\u001b[0m\u001b[0;34m(\u001b[0m\u001b[0mciphertext\u001b[0m\u001b[0;34m)\u001b[0m\u001b[0;34m.\u001b[0m\u001b[0mdecode\u001b[0m\u001b[0;34m(\u001b[0m\u001b[0;34m'utf-8'\u001b[0m\u001b[0;34m)\u001b[0m\u001b[0;34m\u001b[0m\u001b[0m\n\u001b[1;32m      8\u001b[0m \u001b[0;32mdef\u001b[0m \u001b[0mrsa_decrypt\u001b[0m\u001b[0;34m(\u001b[0m\u001b[0mtext\u001b[0m\u001b[0;34m,\u001b[0m\u001b[0mpri_key\u001b[0m\u001b[0;34m)\u001b[0m\u001b[0;34m:\u001b[0m\u001b[0;34m\u001b[0m\u001b[0m\n",
      "\u001b[0;32m~/anaconda3/lib/python3.6/site-packages/rsa/pkcs1.py\u001b[0m in \u001b[0;36mencrypt\u001b[0;34m(message, pub_key)\u001b[0m\n\u001b[1;32m    170\u001b[0m \u001b[0;34m\u001b[0m\u001b[0m\n\u001b[1;32m    171\u001b[0m     \u001b[0mkeylength\u001b[0m \u001b[0;34m=\u001b[0m \u001b[0mcommon\u001b[0m\u001b[0;34m.\u001b[0m\u001b[0mbyte_size\u001b[0m\u001b[0;34m(\u001b[0m\u001b[0mpub_key\u001b[0m\u001b[0;34m.\u001b[0m\u001b[0mn\u001b[0m\u001b[0;34m)\u001b[0m\u001b[0;34m\u001b[0m\u001b[0m\n\u001b[0;32m--> 172\u001b[0;31m     \u001b[0mpadded\u001b[0m \u001b[0;34m=\u001b[0m \u001b[0m_pad_for_encryption\u001b[0m\u001b[0;34m(\u001b[0m\u001b[0mmessage\u001b[0m\u001b[0;34m,\u001b[0m \u001b[0mkeylength\u001b[0m\u001b[0;34m)\u001b[0m\u001b[0;34m\u001b[0m\u001b[0m\n\u001b[0m\u001b[1;32m    173\u001b[0m \u001b[0;34m\u001b[0m\u001b[0m\n\u001b[1;32m    174\u001b[0m     \u001b[0mpayload\u001b[0m \u001b[0;34m=\u001b[0m \u001b[0mtransform\u001b[0m\u001b[0;34m.\u001b[0m\u001b[0mbytes2int\u001b[0m\u001b[0;34m(\u001b[0m\u001b[0mpadded\u001b[0m\u001b[0;34m)\u001b[0m\u001b[0;34m\u001b[0m\u001b[0m\n",
      "\u001b[0;32m~/anaconda3/lib/python3.6/site-packages/rsa/pkcs1.py\u001b[0m in \u001b[0;36m_pad_for_encryption\u001b[0;34m(message, target_length)\u001b[0m\n\u001b[1;32m     87\u001b[0m     \u001b[0;32mif\u001b[0m \u001b[0mmsglength\u001b[0m \u001b[0;34m>\u001b[0m \u001b[0mmax_msglength\u001b[0m\u001b[0;34m:\u001b[0m\u001b[0;34m\u001b[0m\u001b[0m\n\u001b[1;32m     88\u001b[0m         raise OverflowError('%i bytes needed for message, but there is only'\n\u001b[0;32m---> 89\u001b[0;31m                             ' space for %i' % (msglength, max_msglength))\n\u001b[0m\u001b[1;32m     90\u001b[0m \u001b[0;34m\u001b[0m\u001b[0m\n\u001b[1;32m     91\u001b[0m     \u001b[0;31m# Get random padding\u001b[0m\u001b[0;34m\u001b[0m\u001b[0;34m\u001b[0m\u001b[0m\n",
      "\u001b[0;31mOverflowError\u001b[0m: 22 bytes needed for message, but there is only space for 21"
     ]
    }
   ],
   "source": [
    "pub_key,pri_key = rsa.newkeys(256)\n",
    "rsa_encrypt(str_test,pub_key)"
   ]
  },
  {
   "cell_type": "code",
   "execution_count": 150,
   "metadata": {},
   "outputs": [
    {
     "data": {
      "text/plain": [
       "'QmSXYN1Y9kLrmCSPiSPA3ctcMvnTUxQ8JFZ92zH2diM3BG'"
      ]
     },
     "execution_count": 150,
     "metadata": {},
     "output_type": "execute_result"
    }
   ],
   "source": [
    "model_addr"
   ]
  },
  {
   "cell_type": "code",
   "execution_count": 151,
   "metadata": {
    "collapsed": true
   },
   "outputs": [],
   "source": [
    "model_addr = 'QmSXYN1Y9kLrmCSPiSPA3ctcMvnTUxQ8JFZ92zH2diM3BG'"
   ]
  },
  {
   "cell_type": "code",
   "execution_count": null,
   "metadata": {
    "collapsed": true
   },
   "outputs": [],
   "source": [
    "66697993928755715318762783084813522001306220301615457658210060803205040210843"
   ]
  },
  {
   "cell_type": "code",
   "execution_count": 14,
   "metadata": {
    "collapsed": true
   },
   "outputs": [],
   "source": [
    "download_file(model_addr)"
   ]
  },
  {
   "cell_type": "code",
   "execution_count": 37,
   "metadata": {},
   "outputs": [
    {
     "ename": "KeyboardInterrupt",
     "evalue": "",
     "output_type": "error",
     "traceback": [
      "\u001b[0;31m---------------------------------------------------------------------------\u001b[0m",
      "\u001b[0;31mKeyboardInterrupt\u001b[0m                         Traceback (most recent call last)",
      "\u001b[0;32m<ipython-input-37-fee0094d03a6>\u001b[0m in \u001b[0;36m<module>\u001b[0;34m()\u001b[0m\n\u001b[0;32m----> 1\u001b[0;31m \u001b[0msubprocess\u001b[0m\u001b[0;34m.\u001b[0m\u001b[0mcall\u001b[0m\u001b[0;34m(\u001b[0m\u001b[0;34m[\u001b[0m\u001b[0;34m'ping'\u001b[0m\u001b[0;34m,\u001b[0m\u001b[0;34m'88.88.88.88'\u001b[0m\u001b[0;34m]\u001b[0m\u001b[0;34m)\u001b[0m\u001b[0;34m\u001b[0m\u001b[0m\n\u001b[0m",
      "\u001b[0;32m~/anaconda3/lib/python3.6/subprocess.py\u001b[0m in \u001b[0;36mcall\u001b[0;34m(timeout, *popenargs, **kwargs)\u001b[0m\n\u001b[1;32m    267\u001b[0m     \u001b[0;32mwith\u001b[0m \u001b[0mPopen\u001b[0m\u001b[0;34m(\u001b[0m\u001b[0;34m*\u001b[0m\u001b[0mpopenargs\u001b[0m\u001b[0;34m,\u001b[0m \u001b[0;34m**\u001b[0m\u001b[0mkwargs\u001b[0m\u001b[0;34m)\u001b[0m \u001b[0;32mas\u001b[0m \u001b[0mp\u001b[0m\u001b[0;34m:\u001b[0m\u001b[0;34m\u001b[0m\u001b[0m\n\u001b[1;32m    268\u001b[0m         \u001b[0;32mtry\u001b[0m\u001b[0;34m:\u001b[0m\u001b[0;34m\u001b[0m\u001b[0m\n\u001b[0;32m--> 269\u001b[0;31m             \u001b[0;32mreturn\u001b[0m \u001b[0mp\u001b[0m\u001b[0;34m.\u001b[0m\u001b[0mwait\u001b[0m\u001b[0;34m(\u001b[0m\u001b[0mtimeout\u001b[0m\u001b[0;34m=\u001b[0m\u001b[0mtimeout\u001b[0m\u001b[0;34m)\u001b[0m\u001b[0;34m\u001b[0m\u001b[0m\n\u001b[0m\u001b[1;32m    270\u001b[0m         \u001b[0;32mexcept\u001b[0m\u001b[0;34m:\u001b[0m\u001b[0;34m\u001b[0m\u001b[0m\n\u001b[1;32m    271\u001b[0m             \u001b[0mp\u001b[0m\u001b[0;34m.\u001b[0m\u001b[0mkill\u001b[0m\u001b[0;34m(\u001b[0m\u001b[0;34m)\u001b[0m\u001b[0;34m\u001b[0m\u001b[0m\n",
      "\u001b[0;32m~/anaconda3/lib/python3.6/subprocess.py\u001b[0m in \u001b[0;36mwait\u001b[0;34m(self, timeout, endtime)\u001b[0m\n\u001b[1;32m   1455\u001b[0m                         \u001b[0;32mif\u001b[0m \u001b[0mself\u001b[0m\u001b[0;34m.\u001b[0m\u001b[0mreturncode\u001b[0m \u001b[0;32mis\u001b[0m \u001b[0;32mnot\u001b[0m \u001b[0;32mNone\u001b[0m\u001b[0;34m:\u001b[0m\u001b[0;34m\u001b[0m\u001b[0m\n\u001b[1;32m   1456\u001b[0m                             \u001b[0;32mbreak\u001b[0m  \u001b[0;31m# Another thread waited.\u001b[0m\u001b[0;34m\u001b[0m\u001b[0m\n\u001b[0;32m-> 1457\u001b[0;31m                         \u001b[0;34m(\u001b[0m\u001b[0mpid\u001b[0m\u001b[0;34m,\u001b[0m \u001b[0msts\u001b[0m\u001b[0;34m)\u001b[0m \u001b[0;34m=\u001b[0m \u001b[0mself\u001b[0m\u001b[0;34m.\u001b[0m\u001b[0m_try_wait\u001b[0m\u001b[0;34m(\u001b[0m\u001b[0;36m0\u001b[0m\u001b[0;34m)\u001b[0m\u001b[0;34m\u001b[0m\u001b[0m\n\u001b[0m\u001b[1;32m   1458\u001b[0m                         \u001b[0;31m# Check the pid and loop as waitpid has been known to\u001b[0m\u001b[0;34m\u001b[0m\u001b[0;34m\u001b[0m\u001b[0m\n\u001b[1;32m   1459\u001b[0m                         \u001b[0;31m# return 0 even without WNOHANG in odd situations.\u001b[0m\u001b[0;34m\u001b[0m\u001b[0;34m\u001b[0m\u001b[0m\n",
      "\u001b[0;32m~/anaconda3/lib/python3.6/subprocess.py\u001b[0m in \u001b[0;36m_try_wait\u001b[0;34m(self, wait_flags)\u001b[0m\n\u001b[1;32m   1402\u001b[0m             \u001b[0;34m\"\"\"All callers to this function MUST hold self._waitpid_lock.\"\"\"\u001b[0m\u001b[0;34m\u001b[0m\u001b[0m\n\u001b[1;32m   1403\u001b[0m             \u001b[0;32mtry\u001b[0m\u001b[0;34m:\u001b[0m\u001b[0;34m\u001b[0m\u001b[0m\n\u001b[0;32m-> 1404\u001b[0;31m                 \u001b[0;34m(\u001b[0m\u001b[0mpid\u001b[0m\u001b[0;34m,\u001b[0m \u001b[0msts\u001b[0m\u001b[0;34m)\u001b[0m \u001b[0;34m=\u001b[0m \u001b[0mos\u001b[0m\u001b[0;34m.\u001b[0m\u001b[0mwaitpid\u001b[0m\u001b[0;34m(\u001b[0m\u001b[0mself\u001b[0m\u001b[0;34m.\u001b[0m\u001b[0mpid\u001b[0m\u001b[0;34m,\u001b[0m \u001b[0mwait_flags\u001b[0m\u001b[0;34m)\u001b[0m\u001b[0;34m\u001b[0m\u001b[0m\n\u001b[0m\u001b[1;32m   1405\u001b[0m             \u001b[0;32mexcept\u001b[0m \u001b[0mChildProcessError\u001b[0m\u001b[0;34m:\u001b[0m\u001b[0;34m\u001b[0m\u001b[0m\n\u001b[1;32m   1406\u001b[0m                 \u001b[0;31m# This happens if SIGCLD is set to be ignored or waiting\u001b[0m\u001b[0;34m\u001b[0m\u001b[0;34m\u001b[0m\u001b[0m\n",
      "\u001b[0;31mKeyboardInterrupt\u001b[0m: "
     ]
    }
   ],
   "source": [
    "subprocess.call(['ping','88.88.88.88'])"
   ]
  },
  {
   "cell_type": "code",
   "execution_count": null,
   "metadata": {
    "collapsed": true
   },
   "outputs": [],
   "source": []
  }
 ],
 "metadata": {
  "kernelspec": {
   "display_name": "Python 3",
   "language": "python",
   "name": "python3"
  },
  "language_info": {
   "codemirror_mode": {
    "name": "ipython",
    "version": 3
   },
   "file_extension": ".py",
   "mimetype": "text/x-python",
   "name": "python",
   "nbconvert_exporter": "python",
   "pygments_lexer": "ipython3",
   "version": "3.6.3"
  }
 },
 "nbformat": 4,
 "nbformat_minor": 2
}
